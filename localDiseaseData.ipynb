{
 "cells": [
  {
   "cell_type": "code",
   "id": "initial_id",
   "metadata": {
    "collapsed": true,
    "ExecuteTime": {
     "end_time": "2025-08-25T10:42:57.406754Z",
     "start_time": "2025-08-25T10:42:57.399183Z"
    }
   },
   "source": [
    "import pandas as pd\n",
    "\n",
    "disease = pd.read_csv('chronic_kidney_disease.csv', na_values=['?'])\n",
    "disease.dtypes"
   ],
   "outputs": [
    {
     "data": {
      "text/plain": [
       "id           int64\n",
       "'age'      float64\n",
       "'bp'       float64\n",
       "'sg'       float64\n",
       "'al'       float64\n",
       "'su'       float64\n",
       "'rbc'       object\n",
       "'pc'        object\n",
       "'pcc'       object\n",
       "'ba'        object\n",
       "'bgr'      float64\n",
       "'bu'       float64\n",
       "'sc'       float64\n",
       "'sod'      float64\n",
       "'pot'      float64\n",
       "'hemo'     float64\n",
       "'pcv'      float64\n",
       "'wbcc'     float64\n",
       "'rbcc'     float64\n",
       "'htn'       object\n",
       "'dm'        object\n",
       "'cad'       object\n",
       "'appet'     object\n",
       "'pe'        object\n",
       "'ane'       object\n",
       "'class'     object\n",
       "dtype: object"
      ]
     },
     "execution_count": 3,
     "metadata": {},
     "output_type": "execute_result"
    }
   ],
   "execution_count": 3
  },
  {
   "metadata": {
    "ExecuteTime": {
     "end_time": "2025-08-25T10:40:04.434020Z",
     "start_time": "2025-08-25T10:40:04.431575Z"
    }
   },
   "cell_type": "code",
   "source": "",
   "id": "1b45c3cfa29eb0b6",
   "outputs": [],
   "execution_count": null
  },
  {
   "metadata": {
    "ExecuteTime": {
     "end_time": "2025-08-25T10:40:05.468261Z",
     "start_time": "2025-08-25T10:40:05.465446Z"
    }
   },
   "cell_type": "code",
   "source": "",
   "id": "589ff5dd490d2480",
   "outputs": [],
   "execution_count": null
  },
  {
   "metadata": {
    "ExecuteTime": {
     "end_time": "2025-08-25T10:40:12.807468Z",
     "start_time": "2025-08-25T10:40:12.805090Z"
    }
   },
   "cell_type": "code",
   "source": "",
   "id": "ce3c748a3a32375d",
   "outputs": [],
   "execution_count": null
  },
  {
   "metadata": {},
   "cell_type": "code",
   "outputs": [],
   "execution_count": null,
   "source": "",
   "id": "d762b32398a8a77b"
  }
 ],
 "metadata": {
  "kernelspec": {
   "display_name": "Python 3",
   "language": "python",
   "name": "python3"
  },
  "language_info": {
   "codemirror_mode": {
    "name": "ipython",
    "version": 2
   },
   "file_extension": ".py",
   "mimetype": "text/x-python",
   "name": "python",
   "nbconvert_exporter": "python",
   "pygments_lexer": "ipython2",
   "version": "2.7.6"
  }
 },
 "nbformat": 4,
 "nbformat_minor": 5
}
